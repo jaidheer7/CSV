{
  "nbformat": 4,
  "nbformat_minor": 0,
  "metadata": {
    "colab": {
      "provenance": [],
      "authorship_tag": "ABX9TyMkDBBk3F3Gc6IjtnfBHX2/",
      "include_colab_link": true
    },
    "kernelspec": {
      "name": "python3",
      "display_name": "Python 3"
    },
    "language_info": {
      "name": "python"
    }
  },
  "cells": [
    {
      "cell_type": "markdown",
      "metadata": {
        "id": "view-in-github",
        "colab_type": "text"
      },
      "source": [
        "<a href=\"https://colab.research.google.com/github/jaidheer7/CSV/blob/main/PathFinder_GOL.ipynb\" target=\"_parent\"><img src=\"https://colab.research.google.com/assets/colab-badge.svg\" alt=\"Open In Colab\"/></a>"
      ]
    },
    {
      "cell_type": "code",
      "execution_count": 3,
      "metadata": {
        "id": "p9_PZQcPKY74"
      },
      "outputs": [],
      "source": [
        "import numpy as np\n",
        "import pandas as pd\n",
        "\n",
        "from PIL import Image\n",
        "import cv2\n",
        "\n",
        "from time import perf_counter\n",
        "import datetime\n",
        "\n",
        "import os\n",
        "from os.path import join\n",
        "import sys\n",
        "\n",
        "\n",
        "import re\n",
        "import shutil"
      ]
    },
    {
      "cell_type": "code",
      "source": [
        "class newTuple(tuple):\n",
        "  def __sub__(a, b):\n",
        "    return (a[0] - b[0], a[1] - b[1])"
      ],
      "metadata": {
        "id": "YctSxZH518u5"
      },
      "execution_count": 12,
      "outputs": []
    },
    {
      "cell_type": "code",
      "source": [
        "def createFolder(fps, grid) -> str:\n",
        "    # Current Working Directory\n",
        "    pdir = sys.path[0]\n",
        "    \n",
        "    #Getting Current Time\n",
        "    curr = datetime.datetime.now()\n",
        "    dateStr = str(curr.date())\n",
        "    timeStr = str(curr.time())\n",
        "\n",
        "    #Folder name\n",
        "    directory = \"MazeSolver_GOL_RUN_\" + dateStr.replace('-','_') + \"_\" + timeStr.replace(':', '_')\n",
        "    \n",
        "    #Final Path\n",
        "    fpath = join(pdir, directory)\n",
        "    \n",
        "    #Creating the directory\n",
        "    try:\n",
        "      os.mkdir(fpath)\n",
        "    except Exception as exp:\n",
        "      return\n",
        "    \n",
        "    # Creating the Images SubFolder\n",
        "    imgPath = join(fpath, 'Images')\n",
        "    os.mkdir(imgPath)\n",
        "\n",
        "    # Creating CSVs SubFolder\n",
        "    csvPath = join(fpath, 'CSVs')\n",
        "    os.mkdir(csvPath)\n",
        "    \n",
        "    # Writing usefull files\n",
        "    \n",
        "    # Saving the inital grid state\n",
        "    np.savetxt(fname = join(fpath, 'initalGrid.csv'), X = grid, delimiter = ',', fmt = '%d')\n",
        "    \n",
        "    info = \"\"\"\n",
        "           author: S.Jaidheer\n",
        "           github: JAIDHEER007\n",
        "           \n",
        "           Implementing Path Finder using Python\n",
        "           \n",
        "           INFO\n",
        "           =====================================================\n",
        "           Date: {fdate}\n",
        "           time: {ftime}\n",
        "            \n",
        "           Rows: {frows}\n",
        "           Cols: {fcols}\n",
        "           \n",
        "           Generations: {fgen}\n",
        "           Set FPS: {ffps}\n",
        "           \n",
        "           \"\"\".format(fdate = dateStr, ftime = timeStr, \n",
        "                      frows = grid.shape[0], fcols = grid.shape[1], \n",
        "                      ffps = fps)\n",
        "           \n",
        "    with open(join(fpath, 'info.txt'), 'w') as fileHandle:\n",
        "        fileHandle.writelines(info)\n",
        "           \n",
        "    return fpath"
      ],
      "metadata": {
        "id": "n1HwCffxKkrz"
      },
      "execution_count": null,
      "outputs": []
    },
    {
      "cell_type": "code",
      "source": [
        "directionMatrix = [newTuple((i, j)) for i in [0, 1, -1] for j in [0, 1, -1] if abs(i) != abs(j)]"
      ],
      "metadata": {
        "id": "KE8R5wCd2aVO"
      },
      "execution_count": 15,
      "outputs": []
    },
    {
      "cell_type": "code",
      "source": [
        "class MazeSolver:\n",
        "  def isValid(shape, coordinates) -> bool:\n",
        "    rows, cols = shape\n",
        "    i, j = coordinates\n",
        "    return (i >= 0) and (i < rows) and (j >= 0) and (j < cols)\n",
        "  \n",
        "  def dfs(grid, coordinates):\n",
        "    # rows, cols = grid.shape\n",
        "\n",
        "    if not isValid(grid.shape, coordinates) or grid[coordinates] in [0, 2, 4]: return\n",
        "    if grid[coordinates] == '3':\n",
        "      print(coordinates)\n",
        "      return\n",
        "    grid[coordinates] = 4\n",
        "\n",
        "    dfs(grid, coordinates + directionMatrix[0])\n",
        "    dfs(grid, coordinates + directionMatrix[1])\n",
        "    dfs(grid, coordinates + directionMatrix[2])\n",
        "    dfs(grid, coordinates + directionMatrix[3])\n",
        "    \n",
        "\n",
        "  def __init__(self, startGrid, generations, startCoordinates, fps = 35):\n",
        "    self.__rows, self.__cols = startGrid.shape \n",
        "    self.__fps = fps\n",
        "    self.__grid = startGrid\n",
        "    self.__start = startCoordinates\n",
        "\n",
        "\n",
        "\n",
        "    #Folder Path\n",
        "    self.__fpath = createFolder(fps = self.__fps, \n",
        "                                grid = self.__grid)\n",
        "    \n"
      ],
      "metadata": {
        "id": "tygHHpHmLruj"
      },
      "execution_count": 21,
      "outputs": []
    },
    {
      "cell_type": "markdown",
      "source": [
        "Reading CSV from github"
      ],
      "metadata": {
        "id": "XiRe-t52PPuL"
      }
    },
    {
      "cell_type": "code",
      "source": [
        "url = 'https://raw.githubusercontent.com/jaidheer7/CSV/main/State19.csv'\n",
        "grid = pd.read_csv(url, header=None, dtype=int)"
      ],
      "metadata": {
        "id": "P2lmwr0iO55o"
      },
      "execution_count": 8,
      "outputs": []
    },
    {
      "cell_type": "code",
      "source": [
        "grid.shape"
      ],
      "metadata": {
        "colab": {
          "base_uri": "https://localhost:8080/"
        },
        "id": "o8lqaI-ByXdx",
        "outputId": "9a176aa2-7786-426d-db0f-fa97c66bdf62"
      },
      "execution_count": 9,
      "outputs": [
        {
          "output_type": "execute_result",
          "data": {
            "text/plain": [
              "(200, 200)"
            ]
          },
          "metadata": {},
          "execution_count": 9
        }
      ]
    },
    {
      "cell_type": "code",
      "source": [
        "startingLocation = newTuple((0, 0))\n",
        "endingLocation = newTuple((0, 0))"
      ],
      "metadata": {
        "id": "vXtcRwqEy_Mf"
      },
      "execution_count": 18,
      "outputs": []
    },
    {
      "cell_type": "code",
      "source": [
        "if not MazeSolver.isValid(grid.shape, startingLocation):\n",
        "  raise Exception(\"Starting Location Outside the grid\")\n",
        "if not MazeSolver.isValid(grid.shape, endingLocation):\n",
        "  raise Exception(\"Ending Location Outside the grid\")"
      ],
      "metadata": {
        "id": "ZpHPhCxGzJoI"
      },
      "execution_count": 24,
      "outputs": []
    }
  ]
}